{
 "cells": [
  {
   "cell_type": "code",
   "execution_count": null,
   "id": "4d45ebd4-b0e3-4fb0-9c45-673b103d702a",
   "metadata": {},
   "outputs": [],
   "source": [
    "#1)\n"
   ]
  },
  {
   "cell_type": "code",
   "execution_count": 1,
   "id": "93e3b08f-0c39-4e06-a9f8-4e803cee2f72",
   "metadata": {},
   "outputs": [
    {
     "name": "stdout",
     "output_type": "stream",
     "text": [
      "i$wznt$to$yexome$z$dztz$sxientist.\n"
     ]
    }
   ],
   "source": [
    "#2)\n",
    "s='I want to become a Data Scientist.'\n",
    "s=s.lower()\n",
    "s=s.replace('a','z')\n",
    "s=s.replace('b','y')\n",
    "s=s.replace('c','x')\n",
    "s=s.replace(' ','$')\n",
    "print(s)\n",
    "                "
   ]
  },
  {
   "cell_type": "code",
   "execution_count": 5,
   "id": "c7a5de26-87fd-44f8-92b0-7f2f185fee0b",
   "metadata": {},
   "outputs": [
    {
     "name": "stdout",
     "output_type": "stream",
     "text": [
      "[1, 2, 3, 4, False, 'Machine Learning']\n"
     ]
    }
   ],
   "source": [
    "list1 = [1,2,3,4, [44,55,66, True], False, (34,56,78,89,34), {1,2,3,3,2,1}, {1:34, \"key2\": [55, 67, 78, 89], 4: (45,\n",
    "22, 61, 34)}, [56, 'data science'], 'Machine Learning']\n",
    "l=[]\n",
    "for i in list1:\n",
    "    if type(i)==int or type(i)==float or type(i)==str or type(i)==bool:\n",
    "        l.append(i)\n",
    "    elif type(i)==list  or type(i)==set or type(i)==tuple:\n",
    "        \n",
    "        l+list(i)\n",
    "    \n",
    "        \n",
    "        \n",
    "print(l)"
   ]
  },
  {
   "cell_type": "code",
   "execution_count": null,
   "id": "19b6303f-20e0-4929-a6e7-dbc611272d2e",
   "metadata": {},
   "outputs": [],
   "source": []
  }
 ],
 "metadata": {
  "kernelspec": {
   "display_name": "Python 3 (ipykernel)",
   "language": "python",
   "name": "python3"
  },
  "language_info": {
   "codemirror_mode": {
    "name": "ipython",
    "version": 3
   },
   "file_extension": ".py",
   "mimetype": "text/x-python",
   "name": "python",
   "nbconvert_exporter": "python",
   "pygments_lexer": "ipython3",
   "version": "3.10.8"
  }
 },
 "nbformat": 4,
 "nbformat_minor": 5
}
